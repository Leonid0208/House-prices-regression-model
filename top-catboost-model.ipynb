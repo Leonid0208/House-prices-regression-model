{
 "cells": [
  {
   "cell_type": "code",
   "execution_count": 1,
   "id": "38582530",
   "metadata": {
    "_cell_guid": "b1076dfc-b9ad-4769-8c92-a6c4dae69d19",
    "_uuid": "8f2839f25d086af736a60e9eeb907d3b93b6e0e5",
    "execution": {
     "iopub.execute_input": "2023-08-29T18:24:06.819295Z",
     "iopub.status.busy": "2023-08-29T18:24:06.818446Z",
     "iopub.status.idle": "2023-08-29T18:24:06.838358Z",
     "shell.execute_reply": "2023-08-29T18:24:06.837560Z"
    },
    "papermill": {
     "duration": 0.036765,
     "end_time": "2023-08-29T18:24:06.840680",
     "exception": false,
     "start_time": "2023-08-29T18:24:06.803915",
     "status": "completed"
    },
    "tags": []
   },
   "outputs": [
    {
     "name": "stdout",
     "output_type": "stream",
     "text": [
      "/kaggle/input/house-prices-advanced-regression-techniques/sample_submission.csv\n",
      "/kaggle/input/house-prices-advanced-regression-techniques/data_description.txt\n",
      "/kaggle/input/house-prices-advanced-regression-techniques/train.csv\n",
      "/kaggle/input/house-prices-advanced-regression-techniques/test.csv\n"
     ]
    }
   ],
   "source": [
    "# This Python 3 environment comes with many helpful analytics libraries installed\n",
    "# It is defined by the kaggle/python Docker image: https://github.com/kaggle/docker-python\n",
    "# For example, here's several helpful packages to load\n",
    "\n",
    "import numpy as np # linear algebra\n",
    "import pandas as pd # data processing, CSV file I/O (e.g. pd.read_csv)\n",
    "\n",
    "# Input data files are available in the read-only \"../input/\" directory\n",
    "# For example, running this (by clicking run or pressing Shift+Enter) will list all files under the input directory\n",
    "\n",
    "import os\n",
    "for dirname, _, filenames in os.walk('/kaggle/input'):\n",
    "    for filename in filenames:\n",
    "        print(os.path.join(dirname, filename))\n",
    "\n",
    "# You can write up to 20GB to the current directory (/kaggle/working/) that gets preserved as output when you create a version using \"Save & Run All\" \n",
    "# You can also write temporary files to /kaggle/temp/, but they won't be saved outside of the current session"
   ]
  },
  {
   "cell_type": "code",
   "execution_count": 2,
   "id": "ac1ea5f3",
   "metadata": {
    "execution": {
     "iopub.execute_input": "2023-08-29T18:24:06.863380Z",
     "iopub.status.busy": "2023-08-29T18:24:06.862309Z",
     "iopub.status.idle": "2023-08-29T18:24:06.988409Z",
     "shell.execute_reply": "2023-08-29T18:24:06.987319Z"
    },
    "papermill": {
     "duration": 0.139959,
     "end_time": "2023-08-29T18:24:06.990886",
     "exception": false,
     "start_time": "2023-08-29T18:24:06.850927",
     "status": "completed"
    },
    "tags": []
   },
   "outputs": [
    {
     "data": {
      "text/html": [
       "<div>\n",
       "<style scoped>\n",
       "    .dataframe tbody tr th:only-of-type {\n",
       "        vertical-align: middle;\n",
       "    }\n",
       "\n",
       "    .dataframe tbody tr th {\n",
       "        vertical-align: top;\n",
       "    }\n",
       "\n",
       "    .dataframe thead th {\n",
       "        text-align: right;\n",
       "    }\n",
       "</style>\n",
       "<table border=\"1\" class=\"dataframe\">\n",
       "  <thead>\n",
       "    <tr style=\"text-align: right;\">\n",
       "      <th></th>\n",
       "      <th>Id</th>\n",
       "      <th>MSSubClass</th>\n",
       "      <th>MSZoning</th>\n",
       "      <th>LotFrontage</th>\n",
       "      <th>LotArea</th>\n",
       "      <th>Street</th>\n",
       "      <th>Alley</th>\n",
       "      <th>LotShape</th>\n",
       "      <th>LandContour</th>\n",
       "      <th>Utilities</th>\n",
       "      <th>...</th>\n",
       "      <th>ScreenPorch</th>\n",
       "      <th>PoolArea</th>\n",
       "      <th>PoolQC</th>\n",
       "      <th>Fence</th>\n",
       "      <th>MiscFeature</th>\n",
       "      <th>MiscVal</th>\n",
       "      <th>MoSold</th>\n",
       "      <th>YrSold</th>\n",
       "      <th>SaleType</th>\n",
       "      <th>SaleCondition</th>\n",
       "    </tr>\n",
       "  </thead>\n",
       "  <tbody>\n",
       "    <tr>\n",
       "      <th>0</th>\n",
       "      <td>1461</td>\n",
       "      <td>20</td>\n",
       "      <td>RH</td>\n",
       "      <td>80.0</td>\n",
       "      <td>11622</td>\n",
       "      <td>Pave</td>\n",
       "      <td>NaN</td>\n",
       "      <td>Reg</td>\n",
       "      <td>Lvl</td>\n",
       "      <td>AllPub</td>\n",
       "      <td>...</td>\n",
       "      <td>120</td>\n",
       "      <td>0</td>\n",
       "      <td>NaN</td>\n",
       "      <td>MnPrv</td>\n",
       "      <td>NaN</td>\n",
       "      <td>0</td>\n",
       "      <td>6</td>\n",
       "      <td>2010</td>\n",
       "      <td>WD</td>\n",
       "      <td>Normal</td>\n",
       "    </tr>\n",
       "    <tr>\n",
       "      <th>1</th>\n",
       "      <td>1462</td>\n",
       "      <td>20</td>\n",
       "      <td>RL</td>\n",
       "      <td>81.0</td>\n",
       "      <td>14267</td>\n",
       "      <td>Pave</td>\n",
       "      <td>NaN</td>\n",
       "      <td>IR1</td>\n",
       "      <td>Lvl</td>\n",
       "      <td>AllPub</td>\n",
       "      <td>...</td>\n",
       "      <td>0</td>\n",
       "      <td>0</td>\n",
       "      <td>NaN</td>\n",
       "      <td>NaN</td>\n",
       "      <td>Gar2</td>\n",
       "      <td>12500</td>\n",
       "      <td>6</td>\n",
       "      <td>2010</td>\n",
       "      <td>WD</td>\n",
       "      <td>Normal</td>\n",
       "    </tr>\n",
       "    <tr>\n",
       "      <th>2</th>\n",
       "      <td>1463</td>\n",
       "      <td>60</td>\n",
       "      <td>RL</td>\n",
       "      <td>74.0</td>\n",
       "      <td>13830</td>\n",
       "      <td>Pave</td>\n",
       "      <td>NaN</td>\n",
       "      <td>IR1</td>\n",
       "      <td>Lvl</td>\n",
       "      <td>AllPub</td>\n",
       "      <td>...</td>\n",
       "      <td>0</td>\n",
       "      <td>0</td>\n",
       "      <td>NaN</td>\n",
       "      <td>MnPrv</td>\n",
       "      <td>NaN</td>\n",
       "      <td>0</td>\n",
       "      <td>3</td>\n",
       "      <td>2010</td>\n",
       "      <td>WD</td>\n",
       "      <td>Normal</td>\n",
       "    </tr>\n",
       "    <tr>\n",
       "      <th>3</th>\n",
       "      <td>1464</td>\n",
       "      <td>60</td>\n",
       "      <td>RL</td>\n",
       "      <td>78.0</td>\n",
       "      <td>9978</td>\n",
       "      <td>Pave</td>\n",
       "      <td>NaN</td>\n",
       "      <td>IR1</td>\n",
       "      <td>Lvl</td>\n",
       "      <td>AllPub</td>\n",
       "      <td>...</td>\n",
       "      <td>0</td>\n",
       "      <td>0</td>\n",
       "      <td>NaN</td>\n",
       "      <td>NaN</td>\n",
       "      <td>NaN</td>\n",
       "      <td>0</td>\n",
       "      <td>6</td>\n",
       "      <td>2010</td>\n",
       "      <td>WD</td>\n",
       "      <td>Normal</td>\n",
       "    </tr>\n",
       "    <tr>\n",
       "      <th>4</th>\n",
       "      <td>1465</td>\n",
       "      <td>120</td>\n",
       "      <td>RL</td>\n",
       "      <td>43.0</td>\n",
       "      <td>5005</td>\n",
       "      <td>Pave</td>\n",
       "      <td>NaN</td>\n",
       "      <td>IR1</td>\n",
       "      <td>HLS</td>\n",
       "      <td>AllPub</td>\n",
       "      <td>...</td>\n",
       "      <td>144</td>\n",
       "      <td>0</td>\n",
       "      <td>NaN</td>\n",
       "      <td>NaN</td>\n",
       "      <td>NaN</td>\n",
       "      <td>0</td>\n",
       "      <td>1</td>\n",
       "      <td>2010</td>\n",
       "      <td>WD</td>\n",
       "      <td>Normal</td>\n",
       "    </tr>\n",
       "  </tbody>\n",
       "</table>\n",
       "<p>5 rows × 80 columns</p>\n",
       "</div>"
      ],
      "text/plain": [
       "     Id  MSSubClass MSZoning  LotFrontage  LotArea Street Alley LotShape  \\\n",
       "0  1461          20       RH         80.0    11622   Pave   NaN      Reg   \n",
       "1  1462          20       RL         81.0    14267   Pave   NaN      IR1   \n",
       "2  1463          60       RL         74.0    13830   Pave   NaN      IR1   \n",
       "3  1464          60       RL         78.0     9978   Pave   NaN      IR1   \n",
       "4  1465         120       RL         43.0     5005   Pave   NaN      IR1   \n",
       "\n",
       "  LandContour Utilities  ... ScreenPorch PoolArea PoolQC  Fence MiscFeature  \\\n",
       "0         Lvl    AllPub  ...         120        0    NaN  MnPrv         NaN   \n",
       "1         Lvl    AllPub  ...           0        0    NaN    NaN        Gar2   \n",
       "2         Lvl    AllPub  ...           0        0    NaN  MnPrv         NaN   \n",
       "3         Lvl    AllPub  ...           0        0    NaN    NaN         NaN   \n",
       "4         HLS    AllPub  ...         144        0    NaN    NaN         NaN   \n",
       "\n",
       "  MiscVal MoSold  YrSold  SaleType  SaleCondition  \n",
       "0       0      6    2010        WD         Normal  \n",
       "1   12500      6    2010        WD         Normal  \n",
       "2       0      3    2010        WD         Normal  \n",
       "3       0      6    2010        WD         Normal  \n",
       "4       0      1    2010        WD         Normal  \n",
       "\n",
       "[5 rows x 80 columns]"
      ]
     },
     "execution_count": 2,
     "metadata": {},
     "output_type": "execute_result"
    }
   ],
   "source": [
    "test = pd.read_csv('/kaggle/input/house-prices-advanced-regression-techniques/test.csv')\n",
    "train = pd.read_csv('/kaggle/input/house-prices-advanced-regression-techniques/train.csv')\n",
    "test.head()"
   ]
  },
  {
   "cell_type": "code",
   "execution_count": 3,
   "id": "672c989d",
   "metadata": {
    "execution": {
     "iopub.execute_input": "2023-08-29T18:24:07.013412Z",
     "iopub.status.busy": "2023-08-29T18:24:07.012991Z",
     "iopub.status.idle": "2023-08-29T18:24:10.169473Z",
     "shell.execute_reply": "2023-08-29T18:24:10.168312Z"
    },
    "papermill": {
     "duration": 3.170759,
     "end_time": "2023-08-29T18:24:10.172215",
     "exception": false,
     "start_time": "2023-08-29T18:24:07.001456",
     "status": "completed"
    },
    "tags": []
   },
   "outputs": [
    {
     "name": "stderr",
     "output_type": "stream",
     "text": [
      "/opt/conda/lib/python3.10/site-packages/scipy/__init__.py:146: UserWarning: A NumPy version >=1.16.5 and <1.23.0 is required for this version of SciPy (detected version 1.23.5\n",
      "  warnings.warn(f\"A NumPy version >={np_minversion} and <{np_maxversion}\"\n"
     ]
    },
    {
     "data": {
      "text/plain": [
       "<Axes: xlabel='SalePrice', ylabel='Count'>"
      ]
     },
     "execution_count": 3,
     "metadata": {},
     "output_type": "execute_result"
    },
    {
     "data": {
      "image/png": "[encoded data removed]",
      "text/plain": [
       "<Figure size 2000x500 with 1 Axes>"
      ]
     },
     "metadata": {},
     "output_type": "display_data"
    }
   ],
   "source": [
    "import seaborn as sns\n",
    "import matplotlib.pyplot as plt\n",
    "\n",
    "target = 'SalePrice'\n",
    "plt.figure(figsize=(20, 5))\n",
    "sns.histplot(data=train, x=target, hue='OverallCond')"
   ]
  },
  {
   "cell_type": "code",
   "execution_count": 4,
   "id": "9949f970",
   "metadata": {
    "execution": {
     "iopub.execute_input": "2023-08-29T18:24:10.197709Z",
     "iopub.status.busy": "2023-08-29T18:24:10.196521Z",
     "iopub.status.idle": "2023-08-29T18:24:10.315010Z",
     "shell.execute_reply": "2023-08-29T18:24:10.313744Z"
    },
    "papermill": {
     "duration": 0.133923,
     "end_time": "2023-08-29T18:24:10.317649",
     "exception": false,
     "start_time": "2023-08-29T18:24:10.183726",
     "status": "completed"
    },
    "tags": []
   },
   "outputs": [
    {
     "data": {
      "text/html": [
       "<div>\n",
       "<style scoped>\n",
       "    .dataframe tbody tr th:only-of-type {\n",
       "        vertical-align: middle;\n",
       "    }\n",
       "\n",
       "    .dataframe tbody tr th {\n",
       "        vertical-align: top;\n",
       "    }\n",
       "\n",
       "    .dataframe thead th {\n",
       "        text-align: right;\n",
       "    }\n",
       "</style>\n",
       "<table border=\"1\" class=\"dataframe\">\n",
       "  <thead>\n",
       "    <tr style=\"text-align: right;\">\n",
       "      <th></th>\n",
       "      <th>Id</th>\n",
       "      <th>MSSubClass</th>\n",
       "      <th>LotFrontage</th>\n",
       "      <th>LotArea</th>\n",
       "      <th>OverallQual</th>\n",
       "      <th>OverallCond</th>\n",
       "      <th>YearBuilt</th>\n",
       "      <th>YearRemodAdd</th>\n",
       "      <th>MasVnrArea</th>\n",
       "      <th>BsmtFinSF1</th>\n",
       "      <th>...</th>\n",
       "      <th>GarageArea</th>\n",
       "      <th>WoodDeckSF</th>\n",
       "      <th>OpenPorchSF</th>\n",
       "      <th>EnclosedPorch</th>\n",
       "      <th>3SsnPorch</th>\n",
       "      <th>ScreenPorch</th>\n",
       "      <th>PoolArea</th>\n",
       "      <th>MiscVal</th>\n",
       "      <th>MoSold</th>\n",
       "      <th>YrSold</th>\n",
       "    </tr>\n",
       "  </thead>\n",
       "  <tbody>\n",
       "    <tr>\n",
       "      <th>count</th>\n",
       "      <td>1459.000000</td>\n",
       "      <td>1459.000000</td>\n",
       "      <td>1232.000000</td>\n",
       "      <td>1459.000000</td>\n",
       "      <td>1459.000000</td>\n",
       "      <td>1459.000000</td>\n",
       "      <td>1459.000000</td>\n",
       "      <td>1459.000000</td>\n",
       "      <td>1444.000000</td>\n",
       "      <td>1458.000000</td>\n",
       "      <td>...</td>\n",
       "      <td>1458.000000</td>\n",
       "      <td>1459.000000</td>\n",
       "      <td>1459.000000</td>\n",
       "      <td>1459.000000</td>\n",
       "      <td>1459.000000</td>\n",
       "      <td>1459.000000</td>\n",
       "      <td>1459.000000</td>\n",
       "      <td>1459.000000</td>\n",
       "      <td>1459.000000</td>\n",
       "      <td>1459.000000</td>\n",
       "    </tr>\n",
       "    <tr>\n",
       "      <th>mean</th>\n",
       "      <td>2190.000000</td>\n",
       "      <td>57.378341</td>\n",
       "      <td>68.580357</td>\n",
       "      <td>9819.161069</td>\n",
       "      <td>6.078821</td>\n",
       "      <td>5.553804</td>\n",
       "      <td>1971.357779</td>\n",
       "      <td>1983.662783</td>\n",
       "      <td>100.709141</td>\n",
       "      <td>439.203704</td>\n",
       "      <td>...</td>\n",
       "      <td>472.768861</td>\n",
       "      <td>93.174777</td>\n",
       "      <td>48.313914</td>\n",
       "      <td>24.243317</td>\n",
       "      <td>1.794380</td>\n",
       "      <td>17.064428</td>\n",
       "      <td>1.744345</td>\n",
       "      <td>58.167923</td>\n",
       "      <td>6.104181</td>\n",
       "      <td>2007.769705</td>\n",
       "    </tr>\n",
       "    <tr>\n",
       "      <th>std</th>\n",
       "      <td>421.321334</td>\n",
       "      <td>42.746880</td>\n",
       "      <td>22.376841</td>\n",
       "      <td>4955.517327</td>\n",
       "      <td>1.436812</td>\n",
       "      <td>1.113740</td>\n",
       "      <td>30.390071</td>\n",
       "      <td>21.130467</td>\n",
       "      <td>177.625900</td>\n",
       "      <td>455.268042</td>\n",
       "      <td>...</td>\n",
       "      <td>217.048611</td>\n",
       "      <td>127.744882</td>\n",
       "      <td>68.883364</td>\n",
       "      <td>67.227765</td>\n",
       "      <td>20.207842</td>\n",
       "      <td>56.609763</td>\n",
       "      <td>30.491646</td>\n",
       "      <td>630.806978</td>\n",
       "      <td>2.722432</td>\n",
       "      <td>1.301740</td>\n",
       "    </tr>\n",
       "    <tr>\n",
       "      <th>min</th>\n",
       "      <td>1461.000000</td>\n",
       "      <td>20.000000</td>\n",
       "      <td>21.000000</td>\n",
       "      <td>1470.000000</td>\n",
       "      <td>1.000000</td>\n",
       "      <td>1.000000</td>\n",
       "      <td>1879.000000</td>\n",
       "      <td>1950.000000</td>\n",
       "      <td>0.000000</td>\n",
       "      <td>0.000000</td>\n",
       "      <td>...</td>\n",
       "      <td>0.000000</td>\n",
       "      <td>0.000000</td>\n",
       "      <td>0.000000</td>\n",
       "      <td>0.000000</td>\n",
       "      <td>0.000000</td>\n",
       "      <td>0.000000</td>\n",
       "      <td>0.000000</td>\n",
       "      <td>0.000000</td>\n",
       "      <td>1.000000</td>\n",
       "      <td>2006.000000</td>\n",
       "    </tr>\n",
       "    <tr>\n",
       "      <th>25%</th>\n",
       "      <td>1825.500000</td>\n",
       "      <td>20.000000</td>\n",
       "      <td>58.000000</td>\n",
       "      <td>7391.000000</td>\n",
       "      <td>5.000000</td>\n",
       "      <td>5.000000</td>\n",
       "      <td>1953.000000</td>\n",
       "      <td>1963.000000</td>\n",
       "      <td>0.000000</td>\n",
       "      <td>0.000000</td>\n",
       "      <td>...</td>\n",
       "      <td>318.000000</td>\n",
       "      <td>0.000000</td>\n",
       "      <td>0.000000</td>\n",
       "      <td>0.000000</td>\n",
       "      <td>0.000000</td>\n",
       "      <td>0.000000</td>\n",
       "      <td>0.000000</td>\n",
       "      <td>0.000000</td>\n",
       "      <td>4.000000</td>\n",
       "      <td>2007.000000</td>\n",
       "    </tr>\n",
       "    <tr>\n",
       "      <th>50%</th>\n",
       "      <td>2190.000000</td>\n",
       "      <td>50.000000</td>\n",
       "      <td>67.000000</td>\n",
       "      <td>9399.000000</td>\n",
       "      <td>6.000000</td>\n",
       "      <td>5.000000</td>\n",
       "      <td>1973.000000</td>\n",
       "      <td>1992.000000</td>\n",
       "      <td>0.000000</td>\n",
       "      <td>350.500000</td>\n",
       "      <td>...</td>\n",
       "      <td>480.000000</td>\n",
       "      <td>0.000000</td>\n",
       "      <td>28.000000</td>\n",
       "      <td>0.000000</td>\n",
       "      <td>0.000000</td>\n",
       "      <td>0.000000</td>\n",
       "      <td>0.000000</td>\n",
       "      <td>0.000000</td>\n",
       "      <td>6.000000</td>\n",
       "      <td>2008.000000</td>\n",
       "    </tr>\n",
       "    <tr>\n",
       "      <th>75%</th>\n",
       "      <td>2554.500000</td>\n",
       "      <td>70.000000</td>\n",
       "      <td>80.000000</td>\n",
       "      <td>11517.500000</td>\n",
       "      <td>7.000000</td>\n",
       "      <td>6.000000</td>\n",
       "      <td>2001.000000</td>\n",
       "      <td>2004.000000</td>\n",
       "      <td>164.000000</td>\n",
       "      <td>753.500000</td>\n",
       "      <td>...</td>\n",
       "      <td>576.000000</td>\n",
       "      <td>168.000000</td>\n",
       "      <td>72.000000</td>\n",
       "      <td>0.000000</td>\n",
       "      <td>0.000000</td>\n",
       "      <td>0.000000</td>\n",
       "      <td>0.000000</td>\n",
       "      <td>0.000000</td>\n",
       "      <td>8.000000</td>\n",
       "      <td>2009.000000</td>\n",
       "    </tr>\n",
       "    <tr>\n",
       "      <th>max</th>\n",
       "      <td>2919.000000</td>\n",
       "      <td>190.000000</td>\n",
       "      <td>200.000000</td>\n",
       "      <td>56600.000000</td>\n",
       "      <td>10.000000</td>\n",
       "      <td>9.000000</td>\n",
       "      <td>2010.000000</td>\n",
       "      <td>2010.000000</td>\n",
       "      <td>1290.000000</td>\n",
       "      <td>4010.000000</td>\n",
       "      <td>...</td>\n",
       "      <td>1488.000000</td>\n",
       "      <td>1424.000000</td>\n",
       "      <td>742.000000</td>\n",
       "      <td>1012.000000</td>\n",
       "      <td>360.000000</td>\n",
       "      <td>576.000000</td>\n",
       "      <td>800.000000</td>\n",
       "      <td>17000.000000</td>\n",
       "      <td>12.000000</td>\n",
       "      <td>2010.000000</td>\n",
       "    </tr>\n",
       "  </tbody>\n",
       "</table>\n",
       "<p>8 rows × 37 columns</p>\n",
       "</div>"
      ],
      "text/plain": [
       "                Id   MSSubClass  LotFrontage       LotArea  OverallQual  \\\n",
       "count  1459.000000  1459.000000  1232.000000   1459.000000  1459.000000   \n",
       "mean   2190.000000    57.378341    68.580357   9819.161069     6.078821   \n",
       "std     421.321334    42.746880    22.376841   4955.517327     1.436812   \n",
       "min    1461.000000    20.000000    21.000000   1470.000000     1.000000   \n",
       "25%    1825.500000    20.000000    58.000000   7391.000000     5.000000   \n",
       "50%    2190.000000    50.000000    67.000000   9399.000000     6.000000   \n",
       "75%    2554.500000    70.000000    80.000000  11517.500000     7.000000   \n",
       "max    2919.000000   190.000000   200.000000  56600.000000    10.000000   \n",
       "\n",
       "       OverallCond    YearBuilt  YearRemodAdd   MasVnrArea   BsmtFinSF1  ...  \\\n",
       "count  1459.000000  1459.000000   1459.000000  1444.000000  1458.000000  ...   \n",
       "mean      5.553804  1971.357779   1983.662783   100.709141   439.203704  ...   \n",
       "std       1.113740    30.390071     21.130467   177.625900   455.268042  ...   \n",
       "min       1.000000  1879.000000   1950.000000     0.000000     0.000000  ...   \n",
       "25%       5.000000  1953.000000   1963.000000     0.000000     0.000000  ...   \n",
       "50%       5.000000  1973.000000   1992.000000     0.000000   350.500000  ...   \n",
       "75%       6.000000  2001.000000   2004.000000   164.000000   753.500000  ...   \n",
       "max       9.000000  2010.000000   2010.000000  1290.000000  4010.000000  ...   \n",
       "\n",
       "        GarageArea   WoodDeckSF  OpenPorchSF  EnclosedPorch    3SsnPorch  \\\n",
       "count  1458.000000  1459.000000  1459.000000    1459.000000  1459.000000   \n",
       "mean    472.768861    93.174777    48.313914      24.243317     1.794380   \n",
       "std     217.048611   127.744882    68.883364      67.227765    20.207842   \n",
       "min       0.000000     0.000000     0.000000       0.000000     0.000000   \n",
       "25%     318.000000     0.000000     0.000000       0.000000     0.000000   \n",
       "50%     480.000000     0.000000    28.000000       0.000000     0.000000   \n",
       "75%     576.000000   168.000000    72.000000       0.000000     0.000000   \n",
       "max    1488.000000  1424.000000   742.000000    1012.000000   360.000000   \n",
       "\n",
       "       ScreenPorch     PoolArea       MiscVal       MoSold       YrSold  \n",
       "count  1459.000000  1459.000000   1459.000000  1459.000000  1459.000000  \n",
       "mean     17.064428     1.744345     58.167923     6.104181  2007.769705  \n",
       "std      56.609763    30.491646    630.806978     2.722432     1.301740  \n",
       "min       0.000000     0.000000      0.000000     1.000000  2006.000000  \n",
       "25%       0.000000     0.000000      0.000000     4.000000  2007.000000  \n",
       "50%       0.000000     0.000000      0.000000     6.000000  2008.000000  \n",
       "75%       0.000000     0.000000      0.000000     8.000000  2009.000000  \n",
       "max     576.000000   800.000000  17000.000000    12.000000  2010.000000  \n",
       "\n",
       "[8 rows x 37 columns]"
      ]
     },
     "execution_count": 4,
     "metadata": {},
     "output_type": "execute_result"
    }
   ],
   "source": [
    "test.describe()"
   ]
  },
  {
   "cell_type": "code",
   "execution_count": 5,
   "id": "4aaa0541",
   "metadata": {
    "execution": {
     "iopub.execute_input": "2023-08-29T18:24:10.343386Z",
     "iopub.status.busy": "2023-08-29T18:24:10.343005Z",
     "iopub.status.idle": "2023-08-29T18:24:10.368381Z",
     "shell.execute_reply": "2023-08-29T18:24:10.367265Z"
    },
    "papermill": {
     "duration": 0.041593,
     "end_time": "2023-08-29T18:24:10.371352",
     "exception": false,
     "start_time": "2023-08-29T18:24:10.329759",
     "status": "completed"
    },
    "tags": []
   },
   "outputs": [
    {
     "name": "stderr",
     "output_type": "stream",
     "text": [
      "/tmp/ipykernel_20/4132731815.py:1: DeprecationWarning: `np.object` is a deprecated alias for the builtin `object`. To silence this warning, use `object` by itself. Doing this will not modify any behavior and is safe. \n",
      "Deprecated in NumPy 1.20; for more details and guidance: https://numpy.org/devdocs/release/1.20.0-notes.html#deprecations\n",
      "  categorical_train = train.select_dtypes(include=np.object)\n"
     ]
    },
    {
     "data": {
      "text/html": [
       "<div>\n",
       "<style scoped>\n",
       "    .dataframe tbody tr th:only-of-type {\n",
       "        vertical-align: middle;\n",
       "    }\n",
       "\n",
       "    .dataframe tbody tr th {\n",
       "        vertical-align: top;\n",
       "    }\n",
       "\n",
       "    .dataframe thead th {\n",
       "        text-align: right;\n",
       "    }\n",
       "</style>\n",
       "<table border=\"1\" class=\"dataframe\">\n",
       "  <thead>\n",
       "    <tr style=\"text-align: right;\">\n",
       "      <th></th>\n",
       "      <th>MSZoning</th>\n",
       "      <th>Street</th>\n",
       "      <th>Alley</th>\n",
       "      <th>LotShape</th>\n",
       "      <th>LandContour</th>\n",
       "      <th>Utilities</th>\n",
       "      <th>LotConfig</th>\n",
       "      <th>LandSlope</th>\n",
       "      <th>Neighborhood</th>\n",
       "      <th>Condition1</th>\n",
       "      <th>...</th>\n",
       "      <th>GarageType</th>\n",
       "      <th>GarageFinish</th>\n",
       "      <th>GarageQual</th>\n",
       "      <th>GarageCond</th>\n",
       "      <th>PavedDrive</th>\n",
       "      <th>PoolQC</th>\n",
       "      <th>Fence</th>\n",
       "      <th>MiscFeature</th>\n",
       "      <th>SaleType</th>\n",
       "      <th>SaleCondition</th>\n",
       "    </tr>\n",
       "  </thead>\n",
       "  <tbody>\n",
       "    <tr>\n",
       "      <th>0</th>\n",
       "      <td>RL</td>\n",
       "      <td>Pave</td>\n",
       "      <td>NaN</td>\n",
       "      <td>Reg</td>\n",
       "      <td>Lvl</td>\n",
       "      <td>AllPub</td>\n",
       "      <td>Inside</td>\n",
       "      <td>Gtl</td>\n",
       "      <td>CollgCr</td>\n",
       "      <td>Norm</td>\n",
       "      <td>...</td>\n",
       "      <td>Attchd</td>\n",
       "      <td>RFn</td>\n",
       "      <td>TA</td>\n",
       "      <td>TA</td>\n",
       "      <td>Y</td>\n",
       "      <td>NaN</td>\n",
       "      <td>NaN</td>\n",
       "      <td>NaN</td>\n",
       "      <td>WD</td>\n",
       "      <td>Normal</td>\n",
       "    </tr>\n",
       "    <tr>\n",
       "      <th>1</th>\n",
       "      <td>RL</td>\n",
       "      <td>Pave</td>\n",
       "      <td>NaN</td>\n",
       "      <td>Reg</td>\n",
       "      <td>Lvl</td>\n",
       "      <td>AllPub</td>\n",
       "      <td>FR2</td>\n",
       "      <td>Gtl</td>\n",
       "      <td>Veenker</td>\n",
       "      <td>Feedr</td>\n",
       "      <td>...</td>\n",
       "      <td>Attchd</td>\n",
       "      <td>RFn</td>\n",
       "      <td>TA</td>\n",
       "      <td>TA</td>\n",
       "      <td>Y</td>\n",
       "      <td>NaN</td>\n",
       "      <td>NaN</td>\n",
       "      <td>NaN</td>\n",
       "      <td>WD</td>\n",
       "      <td>Normal</td>\n",
       "    </tr>\n",
       "    <tr>\n",
       "      <th>2</th>\n",
       "      <td>RL</td>\n",
       "      <td>Pave</td>\n",
       "      <td>NaN</td>\n",
       "      <td>IR1</td>\n",
       "      <td>Lvl</td>\n",
       "      <td>AllPub</td>\n",
       "      <td>Inside</td>\n",
       "      <td>Gtl</td>\n",
       "      <td>CollgCr</td>\n",
       "      <td>Norm</td>\n",
       "      <td>...</td>\n",
       "      <td>Attchd</td>\n",
       "      <td>RFn</td>\n",
       "      <td>TA</td>\n",
       "      <td>TA</td>\n",
       "      <td>Y</td>\n",
       "      <td>NaN</td>\n",
       "      <td>NaN</td>\n",
       "      <td>NaN</td>\n",
       "      <td>WD</td>\n",
       "      <td>Normal</td>\n",
       "    </tr>\n",
       "    <tr>\n",
       "      <th>3</th>\n",
       "      <td>RL</td>\n",
       "      <td>Pave</td>\n",
       "      <td>NaN</td>\n",
       "      <td>IR1</td>\n",
       "      <td>Lvl</td>\n",
       "      <td>AllPub</td>\n",
       "      <td>Corner</td>\n",
       "      <td>Gtl</td>\n",
       "      <td>Crawfor</td>\n",
       "      <td>Norm</td>\n",
       "      <td>...</td>\n",
       "      <td>Detchd</td>\n",
       "      <td>Unf</td>\n",
       "      <td>TA</td>\n",
       "      <td>TA</td>\n",
       "      <td>Y</td>\n",
       "      <td>NaN</td>\n",
       "      <td>NaN</td>\n",
       "      <td>NaN</td>\n",
       "      <td>WD</td>\n",
       "      <td>Abnorml</td>\n",
       "    </tr>\n",
       "    <tr>\n",
       "      <th>4</th>\n",
       "      <td>RL</td>\n",
       "      <td>Pave</td>\n",
       "      <td>NaN</td>\n",
       "      <td>IR1</td>\n",
       "      <td>Lvl</td>\n",
       "      <td>AllPub</td>\n",
       "      <td>FR2</td>\n",
       "      <td>Gtl</td>\n",
       "      <td>NoRidge</td>\n",
       "      <td>Norm</td>\n",
       "      <td>...</td>\n",
       "      <td>Attchd</td>\n",
       "      <td>RFn</td>\n",
       "      <td>TA</td>\n",
       "      <td>TA</td>\n",
       "      <td>Y</td>\n",
       "      <td>NaN</td>\n",
       "      <td>NaN</td>\n",
       "      <td>NaN</td>\n",
       "      <td>WD</td>\n",
       "      <td>Normal</td>\n",
       "    </tr>\n",
       "  </tbody>\n",
       "</table>\n",
       "<p>5 rows × 43 columns</p>\n",
       "</div>"
      ],
      "text/plain": [
       "  MSZoning Street Alley LotShape LandContour Utilities LotConfig LandSlope  \\\n",
       "0       RL   Pave   NaN      Reg         Lvl    AllPub    Inside       Gtl   \n",
       "1       RL   Pave   NaN      Reg         Lvl    AllPub       FR2       Gtl   \n",
       "2       RL   Pave   NaN      IR1         Lvl    AllPub    Inside       Gtl   \n",
       "3       RL   Pave   NaN      IR1         Lvl    AllPub    Corner       Gtl   \n",
       "4       RL   Pave   NaN      IR1         Lvl    AllPub       FR2       Gtl   \n",
       "\n",
       "  Neighborhood Condition1  ... GarageType GarageFinish GarageQual GarageCond  \\\n",
       "0      CollgCr       Norm  ...     Attchd          RFn         TA         TA   \n",
       "1      Veenker      Feedr  ...     Attchd          RFn         TA         TA   \n",
       "2      CollgCr       Norm  ...     Attchd          RFn         TA         TA   \n",
       "3      Crawfor       Norm  ...     Detchd          Unf         TA         TA   \n",
       "4      NoRidge       Norm  ...     Attchd          RFn         TA         TA   \n",
       "\n",
       "  PavedDrive PoolQC Fence MiscFeature SaleType SaleCondition  \n",
       "0          Y    NaN   NaN         NaN       WD        Normal  \n",
       "1          Y    NaN   NaN         NaN       WD        Normal  \n",
       "2          Y    NaN   NaN         NaN       WD        Normal  \n",
       "3          Y    NaN   NaN         NaN       WD       Abnorml  \n",
       "4          Y    NaN   NaN         NaN       WD        Normal  \n",
       "\n",
       "[5 rows x 43 columns]"
      ]
     },
     "execution_count": 5,
     "metadata": {},
     "output_type": "execute_result"
    }
   ],
   "source": [
    "categorical_train = train.select_dtypes(include=np.object)\n",
    "categorical_train.head()"
   ]
  },
  {
   "cell_type": "code",
   "execution_count": 6,
   "id": "bc36faa9",
   "metadata": {
    "execution": {
     "iopub.execute_input": "2023-08-29T18:24:10.397950Z",
     "iopub.status.busy": "2023-08-29T18:24:10.397572Z",
     "iopub.status.idle": "2023-08-29T18:24:10.429827Z",
     "shell.execute_reply": "2023-08-29T18:24:10.428953Z"
    },
    "papermill": {
     "duration": 0.048173,
     "end_time": "2023-08-29T18:24:10.431965",
     "exception": false,
     "start_time": "2023-08-29T18:24:10.383792",
     "status": "completed"
    },
    "tags": []
   },
   "outputs": [
    {
     "data": {
      "text/plain": [
       "LotFrontage      259.0\n",
       "Alley           1369.0\n",
       "MasVnrType         8.0\n",
       "MasVnrArea         8.0\n",
       "BsmtQual          37.0\n",
       "BsmtCond          37.0\n",
       "BsmtExposure      38.0\n",
       "BsmtFinType1      37.0\n",
       "BsmtFinType2      38.0\n",
       "Electrical         1.0\n",
       "FireplaceQu      690.0\n",
       "GarageType        81.0\n",
       "GarageYrBlt       81.0\n",
       "GarageFinish      81.0\n",
       "GarageQual        81.0\n",
       "GarageCond        81.0\n",
       "PoolQC          1453.0\n",
       "Fence           1179.0\n",
       "MiscFeature     1406.0\n",
       "dtype: float64"
      ]
     },
     "execution_count": 6,
     "metadata": {},
     "output_type": "execute_result"
    }
   ],
   "source": [
    "train.isna().sum().where(lambda x : x>0).dropna()"
   ]
  },
  {
   "cell_type": "code",
   "execution_count": 7,
   "id": "76a1971d",
   "metadata": {
    "execution": {
     "iopub.execute_input": "2023-08-29T18:24:10.459077Z",
     "iopub.status.busy": "2023-08-29T18:24:10.458375Z",
     "iopub.status.idle": "2023-08-29T18:24:10.490729Z",
     "shell.execute_reply": "2023-08-29T18:24:10.489572Z"
    },
    "papermill": {
     "duration": 0.048532,
     "end_time": "2023-08-29T18:24:10.493064",
     "exception": false,
     "start_time": "2023-08-29T18:24:10.444532",
     "status": "completed"
    },
    "tags": []
   },
   "outputs": [
    {
     "data": {
      "text/plain": [
       "MSZoning           4.0\n",
       "LotFrontage      227.0\n",
       "Alley           1352.0\n",
       "Utilities          2.0\n",
       "Exterior1st        1.0\n",
       "Exterior2nd        1.0\n",
       "MasVnrType        16.0\n",
       "MasVnrArea        15.0\n",
       "BsmtQual          44.0\n",
       "BsmtCond          45.0\n",
       "BsmtExposure      44.0\n",
       "BsmtFinType1      42.0\n",
       "BsmtFinSF1         1.0\n",
       "BsmtFinType2      42.0\n",
       "BsmtFinSF2         1.0\n",
       "BsmtUnfSF          1.0\n",
       "TotalBsmtSF        1.0\n",
       "BsmtFullBath       2.0\n",
       "BsmtHalfBath       2.0\n",
       "KitchenQual        1.0\n",
       "Functional         2.0\n",
       "FireplaceQu      730.0\n",
       "GarageType        76.0\n",
       "GarageYrBlt       78.0\n",
       "GarageFinish      78.0\n",
       "GarageCars         1.0\n",
       "GarageArea         1.0\n",
       "GarageQual        78.0\n",
       "GarageCond        78.0\n",
       "PoolQC          1456.0\n",
       "Fence           1169.0\n",
       "MiscFeature     1408.0\n",
       "SaleType           1.0\n",
       "dtype: float64"
      ]
     },
     "execution_count": 7,
     "metadata": {},
     "output_type": "execute_result"
    }
   ],
   "source": [
    "test.isna().sum().where(lambda x : x>0).dropna()"
   ]
  },
  {
   "cell_type": "code",
   "execution_count": 8,
   "id": "72ee1f35",
   "metadata": {
    "execution": {
     "iopub.execute_input": "2023-08-29T18:24:10.520365Z",
     "iopub.status.busy": "2023-08-29T18:24:10.519944Z",
     "iopub.status.idle": "2023-08-29T18:24:11.661008Z",
     "shell.execute_reply": "2023-08-29T18:24:11.659813Z"
    },
    "papermill": {
     "duration": 1.157641,
     "end_time": "2023-08-29T18:24:11.663492",
     "exception": false,
     "start_time": "2023-08-29T18:24:10.505851",
     "status": "completed"
    },
    "tags": []
   },
   "outputs": [
    {
     "data": {
      "text/plain": [
       "<Axes: >"
      ]
     },
     "execution_count": 8,
     "metadata": {},
     "output_type": "execute_result"
    },
    {
     "data": {
      "image/png": "[encoded data removed]",
      "text/plain": [
       "<Figure size 1000x500 with 2 Axes>"
      ]
     },
     "metadata": {},
     "output_type": "display_data"
    }
   ],
   "source": [
    "plt.figure(figsize=(10, 5))\n",
    "sns.heatmap(train.isna().transpose())"
   ]
  },
  {
   "cell_type": "code",
   "execution_count": 9,
   "id": "5aa2a413",
   "metadata": {
    "execution": {
     "iopub.execute_input": "2023-08-29T18:24:11.693986Z",
     "iopub.status.busy": "2023-08-29T18:24:11.692954Z",
     "iopub.status.idle": "2023-08-29T18:24:13.063295Z",
     "shell.execute_reply": "2023-08-29T18:24:13.061977Z"
    },
    "papermill": {
     "duration": 1.389732,
     "end_time": "2023-08-29T18:24:13.067037",
     "exception": false,
     "start_time": "2023-08-29T18:24:11.677305",
     "status": "completed"
    },
    "tags": []
   },
   "outputs": [
    {
     "data": {
      "text/plain": [
       "<Axes: >"
      ]
     },
     "execution_count": 9,
     "metadata": {},
     "output_type": "execute_result"
    },
    {
     "data": {
      "image/png": "[encoded data removed]",
      "text/plain": [
       "<Figure size 1000x500 with 2 Axes>"
      ]
     },
     "metadata": {},
     "output_type": "display_data"
    }
   ],
   "source": [
    "plt.figure(figsize=(10, 5))\n",
    "sns.heatmap(test.isna().transpose())"
   ]
  },
  {
   "cell_type": "code",
   "execution_count": 10,
   "id": "897eadd5",
   "metadata": {
    "execution": {
     "iopub.execute_input": "2023-08-29T18:24:13.100477Z",
     "iopub.status.busy": "2023-08-29T18:24:13.099270Z",
     "iopub.status.idle": "2023-08-29T18:24:13.105320Z",
     "shell.execute_reply": "2023-08-29T18:24:13.104004Z"
    },
    "papermill": {
     "duration": 0.025066,
     "end_time": "2023-08-29T18:24:13.107601",
     "exception": false,
     "start_time": "2023-08-29T18:24:13.082535",
     "status": "completed"
    },
    "tags": []
   },
   "outputs": [
    {
     "name": "stdout",
     "output_type": "stream",
     "text": [
      "(1460, 81)\n",
      "(1459, 80)\n"
     ]
    }
   ],
   "source": [
    "print(train.shape)\n",
    "print(test.shape)"
   ]
  },
  {
   "cell_type": "code",
   "execution_count": 11,
   "id": "4d871971",
   "metadata": {
    "execution": {
     "iopub.execute_input": "2023-08-29T18:24:13.140472Z",
     "iopub.status.busy": "2023-08-29T18:24:13.139464Z",
     "iopub.status.idle": "2023-08-29T18:24:13.630468Z",
     "shell.execute_reply": "2023-08-29T18:24:13.628985Z"
    },
    "papermill": {
     "duration": 0.510307,
     "end_time": "2023-08-29T18:24:13.633322",
     "exception": false,
     "start_time": "2023-08-29T18:24:13.123015",
     "status": "completed"
    },
    "tags": []
   },
   "outputs": [],
   "source": [
    "from sklearn.impute import KNNImputer\n",
    "\n",
    "def fill_na_values(df, col_types):\n",
    "    df_len = df.shape[0]\n",
    "    for col in df.columns:\n",
    "        none_count = df[col].isna().sum()\n",
    "        df[col+'_isna'] = 0\n",
    "        if none_count:\n",
    "            \n",
    "            df.loc[df[col].isna(), col+'_isna'] = 1\n",
    "            if col_types[col] == 'object':\n",
    "                if none_count > int(df_len*0.7):\n",
    "                    df.drop(col, axis=1, inplace=True)\n",
    "                else:\n",
    "                    df[col].fillna(df[col].mode()[0], inplace=True)\n",
    "            else:\n",
    "                if none_count > int(df_len/2):\n",
    "                    df[col].fillna(-1, inplace=True)\n",
    "                else:\n",
    "                    imputer = KNNImputer(n_neighbors=5)\n",
    "                    df[col] = pd.DataFrame(imputer.fit_transform(df[col].to_frame()), index=df.index)\n",
    "    return df"
   ]
  },
  {
   "cell_type": "code",
   "execution_count": 12,
   "id": "baa6d084",
   "metadata": {
    "execution": {
     "iopub.execute_input": "2023-08-29T18:24:13.665586Z",
     "iopub.status.busy": "2023-08-29T18:24:13.665136Z",
     "iopub.status.idle": "2023-08-29T18:24:14.092047Z",
     "shell.execute_reply": "2023-08-29T18:24:14.090866Z"
    },
    "papermill": {
     "duration": 0.446472,
     "end_time": "2023-08-29T18:24:14.095014",
     "exception": false,
     "start_time": "2023-08-29T18:24:13.648542",
     "status": "completed"
    },
    "tags": []
   },
   "outputs": [],
   "source": [
    "col_types = train.dtypes\n",
    "train_notna = fill_na_values(train.copy(), col_types)\n",
    "test_notna = fill_na_values(test.copy(), col_types)"
   ]
  },
  {
   "cell_type": "code",
   "execution_count": 13,
   "id": "935061fb",
   "metadata": {
    "execution": {
     "iopub.execute_input": "2023-08-29T18:24:14.127152Z",
     "iopub.status.busy": "2023-08-29T18:24:14.126736Z",
     "iopub.status.idle": "2023-08-29T18:24:14.146635Z",
     "shell.execute_reply": "2023-08-29T18:24:14.144948Z"
    },
    "papermill": {
     "duration": 0.039083,
     "end_time": "2023-08-29T18:24:14.149263",
     "exception": false,
     "start_time": "2023-08-29T18:24:14.110180",
     "status": "completed"
    },
    "tags": []
   },
   "outputs": [
    {
     "name": "stdout",
     "output_type": "stream",
     "text": [
      "MSZoning ['RL' 'RM' 'C (all)' 'FV' 'RH']\n",
      "Street ['Pave' 'Grvl']\n",
      "LotShape ['Reg' 'IR1' 'IR2' 'IR3']\n",
      "LandContour ['Lvl' 'Bnk' 'Low' 'HLS']\n",
      "Utilities ['AllPub' 'NoSeWa']\n",
      "LotConfig ['Inside' 'FR2' 'Corner' 'CulDSac' 'FR3']\n",
      "LandSlope ['Gtl' 'Mod' 'Sev']\n",
      "Neighborhood ['CollgCr' 'Veenker' 'Crawfor' 'NoRidge' 'Mitchel' 'Somerst' 'NWAmes'\n",
      " 'OldTown' 'BrkSide' 'Sawyer' 'NridgHt' 'NAmes' 'SawyerW' 'IDOTRR'\n",
      " 'MeadowV' 'Edwards' 'Timber' 'Gilbert' 'StoneBr' 'ClearCr' 'NPkVill'\n",
      " 'Blmngtn' 'BrDale' 'SWISU' 'Blueste']\n",
      "Condition1 ['Norm' 'Feedr' 'PosN' 'Artery' 'RRAe' 'RRNn' 'RRAn' 'PosA' 'RRNe']\n",
      "Condition2 ['Norm' 'Artery' 'RRNn' 'Feedr' 'PosN' 'PosA' 'RRAn' 'RRAe']\n",
      "BldgType ['1Fam' '2fmCon' 'Duplex' 'TwnhsE' 'Twnhs']\n",
      "HouseStyle ['2Story' '1Story' '1.5Fin' '1.5Unf' 'SFoyer' 'SLvl' '2.5Unf' '2.5Fin']\n",
      "RoofStyle ['Gable' 'Hip' 'Gambrel' 'Mansard' 'Flat' 'Shed']\n",
      "RoofMatl ['CompShg' 'WdShngl' 'Metal' 'WdShake' 'Membran' 'Tar&Grv' 'Roll'\n",
      " 'ClyTile']\n",
      "Exterior1st ['VinylSd' 'MetalSd' 'Wd Sdng' 'HdBoard' 'BrkFace' 'WdShing' 'CemntBd'\n",
      " 'Plywood' 'AsbShng' 'Stucco' 'BrkComm' 'AsphShn' 'Stone' 'ImStucc'\n",
      " 'CBlock']\n",
      "Exterior2nd ['VinylSd' 'MetalSd' 'Wd Shng' 'HdBoard' 'Plywood' 'Wd Sdng' 'CmentBd'\n",
      " 'BrkFace' 'Stucco' 'AsbShng' 'Brk Cmn' 'ImStucc' 'AsphShn' 'Stone'\n",
      " 'Other' 'CBlock']\n",
      "MasVnrType ['BrkFace' 'None' 'Stone' 'BrkCmn']\n",
      "ExterQual ['Gd' 'TA' 'Ex' 'Fa']\n",
      "ExterCond ['TA' 'Gd' 'Fa' 'Po' 'Ex']\n",
      "Foundation ['PConc' 'CBlock' 'BrkTil' 'Wood' 'Slab' 'Stone']\n",
      "BsmtQual ['Gd' 'TA' 'Ex' 'Fa']\n",
      "BsmtCond ['TA' 'Gd' 'Fa' 'Po']\n",
      "BsmtExposure ['No' 'Gd' 'Mn' 'Av']\n",
      "BsmtFinType1 ['GLQ' 'ALQ' 'Unf' 'Rec' 'BLQ' 'LwQ']\n",
      "BsmtFinType2 ['Unf' 'BLQ' 'ALQ' 'Rec' 'LwQ' 'GLQ']\n",
      "Heating ['GasA' 'GasW' 'Grav' 'Wall' 'OthW' 'Floor']\n",
      "HeatingQC ['Ex' 'Gd' 'TA' 'Fa' 'Po']\n",
      "CentralAir ['Y' 'N']\n",
      "Electrical ['SBrkr' 'FuseF' 'FuseA' 'FuseP' 'Mix']\n",
      "KitchenQual ['Gd' 'TA' 'Ex' 'Fa']\n",
      "Functional ['Typ' 'Min1' 'Maj1' 'Min2' 'Mod' 'Maj2' 'Sev']\n",
      "FireplaceQu ['Gd' 'TA' 'Fa' 'Ex' 'Po']\n",
      "GarageType ['Attchd' 'Detchd' 'BuiltIn' 'CarPort' 'Basment' '2Types']\n",
      "GarageFinish ['RFn' 'Unf' 'Fin']\n",
      "GarageQual ['TA' 'Fa' 'Gd' 'Ex' 'Po']\n",
      "GarageCond ['TA' 'Fa' 'Gd' 'Po' 'Ex']\n",
      "PavedDrive ['Y' 'N' 'P']\n",
      "SaleType ['WD' 'New' 'COD' 'ConLD' 'ConLI' 'CWD' 'ConLw' 'Con' 'Oth']\n",
      "SaleCondition ['Normal' 'Abnorml' 'Partial' 'AdjLand' 'Alloca' 'Family']\n"
     ]
    },
    {
     "name": "stderr",
     "output_type": "stream",
     "text": [
      "/tmp/ipykernel_20/3412778417.py:1: DeprecationWarning: `np.object` is a deprecated alias for the builtin `object`. To silence this warning, use `object` by itself. Doing this will not modify any behavior and is safe. \n",
      "Deprecated in NumPy 1.20; for more details and guidance: https://numpy.org/devdocs/release/1.20.0-notes.html#deprecations\n",
      "  for col in train_notna.select_dtypes(include=np.object).columns:\n"
     ]
    }
   ],
   "source": [
    "for col in train_notna.select_dtypes(include=np.object).columns:\n",
    "    print(col, train_notna[col].unique())"
   ]
  },
  {
   "cell_type": "code",
   "execution_count": 14,
   "id": "c75e15d3",
   "metadata": {
    "execution": {
     "iopub.execute_input": "2023-08-29T18:24:14.182954Z",
     "iopub.status.busy": "2023-08-29T18:24:14.182493Z",
     "iopub.status.idle": "2023-08-29T18:24:14.191941Z",
     "shell.execute_reply": "2023-08-29T18:24:14.190827Z"
    },
    "papermill": {
     "duration": 0.029207,
     "end_time": "2023-08-29T18:24:14.194521",
     "exception": false,
     "start_time": "2023-08-29T18:24:14.165314",
     "status": "completed"
    },
    "tags": []
   },
   "outputs": [
    {
     "name": "stderr",
     "output_type": "stream",
     "text": [
      "/tmp/ipykernel_20/951540743.py:2: DeprecationWarning: `np.object` is a deprecated alias for the builtin `object`. To silence this warning, use `object` by itself. Doing this will not modify any behavior and is safe. \n",
      "Deprecated in NumPy 1.20; for more details and guidance: https://numpy.org/devdocs/release/1.20.0-notes.html#deprecations\n",
      "  col_to_oh_encode = train_notna.select_dtypes(include=np.object).drop(col_to_ordinal_encode, axis=1).columns\n"
     ]
    }
   ],
   "source": [
    "col_to_ordinal_encode = ['CentralAir']\n",
    "col_to_oh_encode = train_notna.select_dtypes(include=np.object).drop(col_to_ordinal_encode, axis=1).columns"
   ]
  },
  {
   "cell_type": "code",
   "execution_count": 15,
   "id": "bafe70e2",
   "metadata": {
    "execution": {
     "iopub.execute_input": "2023-08-29T18:24:14.228844Z",
     "iopub.status.busy": "2023-08-29T18:24:14.227732Z",
     "iopub.status.idle": "2023-08-29T18:24:14.372237Z",
     "shell.execute_reply": "2023-08-29T18:24:14.371121Z"
    },
    "papermill": {
     "duration": 0.164519,
     "end_time": "2023-08-29T18:24:14.374825",
     "exception": false,
     "start_time": "2023-08-29T18:24:14.210306",
     "status": "completed"
    },
    "tags": []
   },
   "outputs": [
    {
     "data": {
      "text/html": [
       "<div>\n",
       "<style scoped>\n",
       "    .dataframe tbody tr th:only-of-type {\n",
       "        vertical-align: middle;\n",
       "    }\n",
       "\n",
       "    .dataframe tbody tr th {\n",
       "        vertical-align: top;\n",
       "    }\n",
       "\n",
       "    .dataframe thead th {\n",
       "        text-align: right;\n",
       "    }\n",
       "</style>\n",
       "<table border=\"1\" class=\"dataframe\">\n",
       "  <thead>\n",
       "    <tr style=\"text-align: right;\">\n",
       "      <th></th>\n",
       "      <th>Id</th>\n",
       "      <th>MSSubClass</th>\n",
       "      <th>LotFrontage</th>\n",
       "      <th>LotArea</th>\n",
       "      <th>OverallQual</th>\n",
       "      <th>OverallCond</th>\n",
       "      <th>YearBuilt</th>\n",
       "      <th>YearRemodAdd</th>\n",
       "      <th>MasVnrArea</th>\n",
       "      <th>BsmtFinSF1</th>\n",
       "      <th>...</th>\n",
       "      <th>SaleType_ConLw</th>\n",
       "      <th>SaleType_New</th>\n",
       "      <th>SaleType_Oth</th>\n",
       "      <th>SaleType_WD</th>\n",
       "      <th>SaleCondition_Abnorml</th>\n",
       "      <th>SaleCondition_AdjLand</th>\n",
       "      <th>SaleCondition_Alloca</th>\n",
       "      <th>SaleCondition_Family</th>\n",
       "      <th>SaleCondition_Normal</th>\n",
       "      <th>SaleCondition_Partial</th>\n",
       "    </tr>\n",
       "  </thead>\n",
       "  <tbody>\n",
       "    <tr>\n",
       "      <th>0</th>\n",
       "      <td>1</td>\n",
       "      <td>60</td>\n",
       "      <td>65.0</td>\n",
       "      <td>8450</td>\n",
       "      <td>7</td>\n",
       "      <td>5</td>\n",
       "      <td>2003</td>\n",
       "      <td>2003</td>\n",
       "      <td>196.0</td>\n",
       "      <td>706</td>\n",
       "      <td>...</td>\n",
       "      <td>0.0</td>\n",
       "      <td>0.0</td>\n",
       "      <td>0.0</td>\n",
       "      <td>1.0</td>\n",
       "      <td>0.0</td>\n",
       "      <td>0.0</td>\n",
       "      <td>0.0</td>\n",
       "      <td>0.0</td>\n",
       "      <td>1.0</td>\n",
       "      <td>0.0</td>\n",
       "    </tr>\n",
       "    <tr>\n",
       "      <th>1</th>\n",
       "      <td>2</td>\n",
       "      <td>20</td>\n",
       "      <td>80.0</td>\n",
       "      <td>9600</td>\n",
       "      <td>6</td>\n",
       "      <td>8</td>\n",
       "      <td>1976</td>\n",
       "      <td>1976</td>\n",
       "      <td>0.0</td>\n",
       "      <td>978</td>\n",
       "      <td>...</td>\n",
       "      <td>0.0</td>\n",
       "      <td>0.0</td>\n",
       "      <td>0.0</td>\n",
       "      <td>1.0</td>\n",
       "      <td>0.0</td>\n",
       "      <td>0.0</td>\n",
       "      <td>0.0</td>\n",
       "      <td>0.0</td>\n",
       "      <td>1.0</td>\n",
       "      <td>0.0</td>\n",
       "    </tr>\n",
       "    <tr>\n",
       "      <th>2</th>\n",
       "      <td>3</td>\n",
       "      <td>60</td>\n",
       "      <td>68.0</td>\n",
       "      <td>11250</td>\n",
       "      <td>7</td>\n",
       "      <td>5</td>\n",
       "      <td>2001</td>\n",
       "      <td>2002</td>\n",
       "      <td>162.0</td>\n",
       "      <td>486</td>\n",
       "      <td>...</td>\n",
       "      <td>0.0</td>\n",
       "      <td>0.0</td>\n",
       "      <td>0.0</td>\n",
       "      <td>1.0</td>\n",
       "      <td>0.0</td>\n",
       "      <td>0.0</td>\n",
       "      <td>0.0</td>\n",
       "      <td>0.0</td>\n",
       "      <td>1.0</td>\n",
       "      <td>0.0</td>\n",
       "    </tr>\n",
       "    <tr>\n",
       "      <th>3</th>\n",
       "      <td>4</td>\n",
       "      <td>70</td>\n",
       "      <td>60.0</td>\n",
       "      <td>9550</td>\n",
       "      <td>7</td>\n",
       "      <td>5</td>\n",
       "      <td>1915</td>\n",
       "      <td>1970</td>\n",
       "      <td>0.0</td>\n",
       "      <td>216</td>\n",
       "      <td>...</td>\n",
       "      <td>0.0</td>\n",
       "      <td>0.0</td>\n",
       "      <td>0.0</td>\n",
       "      <td>1.0</td>\n",
       "      <td>1.0</td>\n",
       "      <td>0.0</td>\n",
       "      <td>0.0</td>\n",
       "      <td>0.0</td>\n",
       "      <td>0.0</td>\n",
       "      <td>0.0</td>\n",
       "    </tr>\n",
       "    <tr>\n",
       "      <th>4</th>\n",
       "      <td>5</td>\n",
       "      <td>60</td>\n",
       "      <td>84.0</td>\n",
       "      <td>14260</td>\n",
       "      <td>8</td>\n",
       "      <td>5</td>\n",
       "      <td>2000</td>\n",
       "      <td>2000</td>\n",
       "      <td>350.0</td>\n",
       "      <td>655</td>\n",
       "      <td>...</td>\n",
       "      <td>0.0</td>\n",
       "      <td>0.0</td>\n",
       "      <td>0.0</td>\n",
       "      <td>1.0</td>\n",
       "      <td>0.0</td>\n",
       "      <td>0.0</td>\n",
       "      <td>0.0</td>\n",
       "      <td>0.0</td>\n",
       "      <td>1.0</td>\n",
       "      <td>0.0</td>\n",
       "    </tr>\n",
       "  </tbody>\n",
       "</table>\n",
       "<p>5 rows × 357 columns</p>\n",
       "</div>"
      ],
      "text/plain": [
       "   Id  MSSubClass  LotFrontage  LotArea  OverallQual  OverallCond  YearBuilt  \\\n",
       "0   1          60         65.0     8450            7            5       2003   \n",
       "1   2          20         80.0     9600            6            8       1976   \n",
       "2   3          60         68.0    11250            7            5       2001   \n",
       "3   4          70         60.0     9550            7            5       1915   \n",
       "4   5          60         84.0    14260            8            5       2000   \n",
       "\n",
       "   YearRemodAdd  MasVnrArea  BsmtFinSF1  ...  SaleType_ConLw  SaleType_New  \\\n",
       "0          2003       196.0         706  ...             0.0           0.0   \n",
       "1          1976         0.0         978  ...             0.0           0.0   \n",
       "2          2002       162.0         486  ...             0.0           0.0   \n",
       "3          1970         0.0         216  ...             0.0           0.0   \n",
       "4          2000       350.0         655  ...             0.0           0.0   \n",
       "\n",
       "   SaleType_Oth SaleType_WD  SaleCondition_Abnorml  SaleCondition_AdjLand  \\\n",
       "0           0.0         1.0                    0.0                    0.0   \n",
       "1           0.0         1.0                    0.0                    0.0   \n",
       "2           0.0         1.0                    0.0                    0.0   \n",
       "3           0.0         1.0                    1.0                    0.0   \n",
       "4           0.0         1.0                    0.0                    0.0   \n",
       "\n",
       "   SaleCondition_Alloca  SaleCondition_Family  SaleCondition_Normal  \\\n",
       "0                   0.0                   0.0                   1.0   \n",
       "1                   0.0                   0.0                   1.0   \n",
       "2                   0.0                   0.0                   1.0   \n",
       "3                   0.0                   0.0                   0.0   \n",
       "4                   0.0                   0.0                   1.0   \n",
       "\n",
       "   SaleCondition_Partial  \n",
       "0                    0.0  \n",
       "1                    0.0  \n",
       "2                    0.0  \n",
       "3                    0.0  \n",
       "4                    0.0  \n",
       "\n",
       "[5 rows x 357 columns]"
      ]
     },
     "execution_count": 15,
     "metadata": {},
     "output_type": "execute_result"
    }
   ],
   "source": [
    "from sklearn.preprocessing import OneHotEncoder\n",
    "\n",
    "df_oh_train = train_notna.copy()\n",
    "df_oh_test = test_notna.copy()\n",
    "\n",
    "oh = OneHotEncoder()\n",
    "encoded_train = pd.DataFrame(oh.fit_transform(df_oh_train[col_to_oh_encode]).toarray(), index=df_oh_train.index, columns=oh.get_feature_names_out())\n",
    "encoded_test = pd.DataFrame(oh.transform(df_oh_test[col_to_oh_encode]).toarray(), index=df_oh_test.index, columns=oh.get_feature_names_out())\n",
    "\n",
    "df_oh_train = df_oh_train.join(encoded_train)\n",
    "df_oh_test = df_oh_test.join(encoded_test)\n",
    "\n",
    "df_oh_train.drop(col_to_oh_encode, axis=1, inplace=True)\n",
    "df_oh_test.drop(col_to_oh_encode, axis=1, inplace=True)\n",
    "\n",
    "df_oh_train.head()"
   ]
  },
  {
   "cell_type": "code",
   "execution_count": 16,
   "id": "e52662c3",
   "metadata": {
    "execution": {
     "iopub.execute_input": "2023-08-29T18:24:14.408749Z",
     "iopub.status.busy": "2023-08-29T18:24:14.408325Z",
     "iopub.status.idle": "2023-08-29T18:24:14.434958Z",
     "shell.execute_reply": "2023-08-29T18:24:14.433961Z"
    },
    "papermill": {
     "duration": 0.047093,
     "end_time": "2023-08-29T18:24:14.437780",
     "exception": false,
     "start_time": "2023-08-29T18:24:14.390687",
     "status": "completed"
    },
    "tags": []
   },
   "outputs": [],
   "source": [
    "df_train_encoded = df_oh_train.copy()\n",
    "df_test_encoded = df_oh_test.copy()\n",
    "\n",
    "df_train_encoded[col_to_ordinal_encode[0]].replace('N', 0, inplace=True)\n",
    "df_train_encoded[col_to_ordinal_encode[0]].replace('Y', 1, inplace=True)\n",
    "\n",
    "df_test_encoded[col_to_ordinal_encode[0]].replace('N', 0, inplace=True)\n",
    "df_test_encoded[col_to_ordinal_encode[0]].replace('Y', 1, inplace=True)"
   ]
  },
  {
   "cell_type": "code",
   "execution_count": 17,
   "id": "1348573a",
   "metadata": {
    "execution": {
     "iopub.execute_input": "2023-08-29T18:24:14.471473Z",
     "iopub.status.busy": "2023-08-29T18:24:14.470590Z",
     "iopub.status.idle": "2023-08-29T18:24:14.479933Z",
     "shell.execute_reply": "2023-08-29T18:24:14.478969Z"
    },
    "papermill": {
     "duration": 0.02847,
     "end_time": "2023-08-29T18:24:14.482065",
     "exception": false,
     "start_time": "2023-08-29T18:24:14.453595",
     "status": "completed"
    },
    "tags": []
   },
   "outputs": [],
   "source": [
    "df_train_encoded.drop('Id', axis=1, inplace=True)\n",
    "df_test_encoded.drop('Id', axis=1, inplace=True)"
   ]
  },
  {
   "cell_type": "code",
   "execution_count": 18,
   "id": "e47e4789",
   "metadata": {
    "execution": {
     "iopub.execute_input": "2023-08-29T18:24:14.516046Z",
     "iopub.status.busy": "2023-08-29T18:24:14.515346Z",
     "iopub.status.idle": "2023-08-29T18:24:14.530470Z",
     "shell.execute_reply": "2023-08-29T18:24:14.529526Z"
    },
    "papermill": {
     "duration": 0.035251,
     "end_time": "2023-08-29T18:24:14.533281",
     "exception": false,
     "start_time": "2023-08-29T18:24:14.498030",
     "status": "completed"
    },
    "tags": []
   },
   "outputs": [],
   "source": [
    "from sklearn.model_selection import train_test_split\n",
    "\n",
    "X = df_train_encoded.drop(target, axis=1)\n",
    "y = df_train_encoded[target]\n",
    "\n",
    "X_train, X_test, y_train, y_test = train_test_split(X, y, test_size=0.2)"
   ]
  },
  {
   "cell_type": "code",
   "execution_count": 19,
   "id": "f7f2657c",
   "metadata": {
    "execution": {
     "iopub.execute_input": "2023-08-29T18:24:14.566818Z",
     "iopub.status.busy": "2023-08-29T18:24:14.566386Z",
     "iopub.status.idle": "2023-08-29T18:24:19.362139Z",
     "shell.execute_reply": "2023-08-29T18:24:19.360911Z"
    },
    "papermill": {
     "duration": 4.816211,
     "end_time": "2023-08-29T18:24:19.365385",
     "exception": false,
     "start_time": "2023-08-29T18:24:14.549174",
     "status": "completed"
    },
    "tags": []
   },
   "outputs": [],
   "source": [
    "from sklearn.pipeline import Pipeline\n",
    "from sklearn.preprocessing import StandardScaler\n",
    "from catboost import CatBoostRegressor\n",
    "\n",
    "model_cb = CatBoostRegressor(verbose=False)\n",
    "model_cb.fit(X_train, y_train)\n",
    "pred_cb_1 = model_cb.predict(X_test)"
   ]
  },
  {
   "cell_type": "code",
   "execution_count": 20,
   "id": "4ea67ca5",
   "metadata": {
    "execution": {
     "iopub.execute_input": "2023-08-29T18:24:19.400058Z",
     "iopub.status.busy": "2023-08-29T18:24:19.399618Z",
     "iopub.status.idle": "2023-08-29T18:24:19.407202Z",
     "shell.execute_reply": "2023-08-29T18:24:19.405898Z"
    },
    "papermill": {
     "duration": 0.028011,
     "end_time": "2023-08-29T18:24:19.409903",
     "exception": false,
     "start_time": "2023-08-29T18:24:19.381892",
     "status": "completed"
    },
    "tags": []
   },
   "outputs": [
    {
     "name": "stdout",
     "output_type": "stream",
     "text": [
      "0.07459796181600664\n"
     ]
    }
   ],
   "source": [
    "from sklearn.metrics import mean_absolute_percentage_error\n",
    "print(mean_absolute_percentage_error(y_test, pred_cb_1))"
   ]
  },
  {
   "cell_type": "code",
   "execution_count": 21,
   "id": "16a5fdef",
   "metadata": {
    "execution": {
     "iopub.execute_input": "2023-08-29T18:24:19.444847Z",
     "iopub.status.busy": "2023-08-29T18:24:19.443998Z",
     "iopub.status.idle": "2023-08-29T18:24:19.569396Z",
     "shell.execute_reply": "2023-08-29T18:24:19.567813Z"
    },
    "papermill": {
     "duration": 0.147447,
     "end_time": "2023-08-29T18:24:19.573629",
     "exception": false,
     "start_time": "2023-08-29T18:24:19.426182",
     "status": "completed"
    },
    "tags": []
   },
   "outputs": [
    {
     "name": "stdout",
     "output_type": "stream",
     "text": [
      "0.09923153494158991\n"
     ]
    }
   ],
   "source": [
    "from sklearn.linear_model import LinearRegression\n",
    "\n",
    "model_ln_1 = LinearRegression()\n",
    "model_ln_1.fit(X_train, y_train)\n",
    "pred_ln_1 = model_ln_1.predict(X_test)\n",
    "print(mean_absolute_percentage_error(y_test, pred_ln_1))"
   ]
  },
  {
   "cell_type": "code",
   "execution_count": 22,
   "id": "3f65e19b",
   "metadata": {
    "execution": {
     "iopub.execute_input": "2023-08-29T18:24:19.695191Z",
     "iopub.status.busy": "2023-08-29T18:24:19.694769Z",
     "iopub.status.idle": "2023-08-29T18:24:19.750866Z",
     "shell.execute_reply": "2023-08-29T18:24:19.749012Z"
    },
    "papermill": {
     "duration": 0.088312,
     "end_time": "2023-08-29T18:24:19.755556",
     "exception": false,
     "start_time": "2023-08-29T18:24:19.667244",
     "status": "completed"
    },
    "tags": []
   },
   "outputs": [
    {
     "name": "stdout",
     "output_type": "stream",
     "text": [
      "0.09821528939208746\n"
     ]
    }
   ],
   "source": [
    "from sklearn.linear_model import Ridge\n",
    "\n",
    "\n",
    "model_ln_2 = Ridge(alpha=0.15)\n",
    "model_ln_2.fit(X_train, y_train)\n",
    "pred_ln_2 = model_ln_2.predict(X_test)\n",
    "print(mean_absolute_percentage_error(y_test, pred_ln_2))"
   ]
  },
  {
   "cell_type": "code",
   "execution_count": 23,
   "id": "c6a3f34c",
   "metadata": {
    "execution": {
     "iopub.execute_input": "2023-08-29T18:24:19.824665Z",
     "iopub.status.busy": "2023-08-29T18:24:19.823812Z",
     "iopub.status.idle": "2023-08-29T18:24:53.163558Z",
     "shell.execute_reply": "2023-08-29T18:24:53.162404Z"
    },
    "papermill": {
     "duration": 33.393262,
     "end_time": "2023-08-29T18:24:53.182703",
     "exception": false,
     "start_time": "2023-08-29T18:24:19.789441",
     "status": "completed"
    },
    "tags": []
   },
   "outputs": [
    {
     "data": {
      "text/html": [
       "<style>#sk-container-id-1 {color: black;background-color: white;}#sk-container-id-1 pre{padding: 0;}#sk-container-id-1 div.sk-toggleable {background-color: white;}#sk-container-id-1 label.sk-toggleable__label {cursor: pointer;display: block;width: 100%;margin-bottom: 0;padding: 0.3em;box-sizing: border-box;text-align: center;}#sk-container-id-1 label.sk-toggleable__label-arrow:before {content: \"▸\";float: left;margin-right: 0.25em;color: #696969;}#sk-container-id-1 label.sk-toggleable__label-arrow:hover:before {color: black;}#sk-container-id-1 div.sk-estimator:hover label.sk-toggleable__label-arrow:before {color: black;}#sk-container-id-1 div.sk-toggleable__content {max-height: 0;max-width: 0;overflow: hidden;text-align: left;background-color: #f0f8ff;}#sk-container-id-1 div.sk-toggleable__content pre {margin: 0.2em;color: black;border-radius: 0.25em;background-color: #f0f8ff;}#sk-container-id-1 input.sk-toggleable__control:checked~div.sk-toggleable__content {max-height: 200px;max-width: 100%;overflow: auto;}#sk-container-id-1 input.sk-toggleable__control:checked~label.sk-toggleable__label-arrow:before {content: \"▾\";}#sk-container-id-1 div.sk-estimator input.sk-toggleable__control:checked~label.sk-toggleable__label {background-color: #d4ebff;}#sk-container-id-1 div.sk-label input.sk-toggleable__control:checked~label.sk-toggleable__label {background-color: #d4ebff;}#sk-container-id-1 input.sk-hidden--visually {border: 0;clip: rect(1px 1px 1px 1px);clip: rect(1px, 1px, 1px, 1px);height: 1px;margin: -1px;overflow: hidden;padding: 0;position: absolute;width: 1px;}#sk-container-id-1 div.sk-estimator {font-family: monospace;background-color: #f0f8ff;border: 1px dotted black;border-radius: 0.25em;box-sizing: border-box;margin-bottom: 0.5em;}#sk-container-id-1 div.sk-estimator:hover {background-color: #d4ebff;}#sk-container-id-1 div.sk-parallel-item::after {content: \"\";width: 100%;border-bottom: 1px solid gray;flex-grow: 1;}#sk-container-id-1 div.sk-label:hover label.sk-toggleable__label {background-color: #d4ebff;}#sk-container-id-1 div.sk-serial::before {content: \"\";position: absolute;border-left: 1px solid gray;box-sizing: border-box;top: 0;bottom: 0;left: 50%;z-index: 0;}#sk-container-id-1 div.sk-serial {display: flex;flex-direction: column;align-items: center;background-color: white;padding-right: 0.2em;padding-left: 0.2em;position: relative;}#sk-container-id-1 div.sk-item {position: relative;z-index: 1;}#sk-container-id-1 div.sk-parallel {display: flex;align-items: stretch;justify-content: center;background-color: white;position: relative;}#sk-container-id-1 div.sk-item::before, #sk-container-id-1 div.sk-parallel-item::before {content: \"\";position: absolute;border-left: 1px solid gray;box-sizing: border-box;top: 0;bottom: 0;left: 50%;z-index: -1;}#sk-container-id-1 div.sk-parallel-item {display: flex;flex-direction: column;z-index: 1;position: relative;background-color: white;}#sk-container-id-1 div.sk-parallel-item:first-child::after {align-self: flex-end;width: 50%;}#sk-container-id-1 div.sk-parallel-item:last-child::after {align-self: flex-start;width: 50%;}#sk-container-id-1 div.sk-parallel-item:only-child::after {width: 0;}#sk-container-id-1 div.sk-dashed-wrapped {border: 1px dashed gray;margin: 0 0.4em 0.5em 0.4em;box-sizing: border-box;padding-bottom: 0.4em;background-color: white;}#sk-container-id-1 div.sk-label label {font-family: monospace;font-weight: bold;display: inline-block;line-height: 1.2em;}#sk-container-id-1 div.sk-label-container {text-align: center;}#sk-container-id-1 div.sk-container {/* jupyter's `normalize.less` sets `[hidden] { display: none; }` but bootstrap.min.css set `[hidden] { display: none !important; }` so we also need the `!important` here to be able to override the default hidden behavior on the sphinx rendered scikit-learn.org. See: https://github.com/scikit-learn/scikit-learn/issues/21755 */display: inline-block !important;position: relative;}#sk-container-id-1 div.sk-text-repr-fallback {display: none;}</style><div id=\"sk-container-id-1\" class=\"sk-top-container\"><div class=\"sk-text-repr-fallback\"><pre>Pipeline(steps=[(&#x27;rfecv&#x27;, RFECV(estimator=Ridge(alpha=0.15))),\n",
       "                (&#x27;model&#x27;,\n",
       "                 &lt;catboost.core.CatBoostRegressor object at 0x7e8adc124eb0&gt;)])</pre><b>In a Jupyter environment, please rerun this cell to show the HTML representation or trust the notebook. <br />On GitHub, the HTML representation is unable to render, please try loading this page with nbviewer.org.</b></div><div class=\"sk-container\" hidden><div class=\"sk-item sk-dashed-wrapped\"><div class=\"sk-label-container\"><div class=\"sk-label sk-toggleable\"><input class=\"sk-toggleable__control sk-hidden--visually\" id=\"sk-estimator-id-1\" type=\"checkbox\" ><label for=\"sk-estimator-id-1\" class=\"sk-toggleable__label sk-toggleable__label-arrow\">Pipeline</label><div class=\"sk-toggleable__content\"><pre>Pipeline(steps=[(&#x27;rfecv&#x27;, RFECV(estimator=Ridge(alpha=0.15))),\n",
       "                (&#x27;model&#x27;,\n",
       "                 &lt;catboost.core.CatBoostRegressor object at 0x7e8adc124eb0&gt;)])</pre></div></div></div><div class=\"sk-serial\"><div class=\"sk-item sk-dashed-wrapped\"><div class=\"sk-label-container\"><div class=\"sk-label sk-toggleable\"><input class=\"sk-toggleable__control sk-hidden--visually\" id=\"sk-estimator-id-2\" type=\"checkbox\" ><label for=\"sk-estimator-id-2\" class=\"sk-toggleable__label sk-toggleable__label-arrow\">rfecv: RFECV</label><div class=\"sk-toggleable__content\"><pre>RFECV(estimator=Ridge(alpha=0.15))</pre></div></div></div><div class=\"sk-parallel\"><div class=\"sk-parallel-item\"><div class=\"sk-item\"><div class=\"sk-label-container\"><div class=\"sk-label sk-toggleable\"><input class=\"sk-toggleable__control sk-hidden--visually\" id=\"sk-estimator-id-3\" type=\"checkbox\" ><label for=\"sk-estimator-id-3\" class=\"sk-toggleable__label sk-toggleable__label-arrow\">estimator: Ridge</label><div class=\"sk-toggleable__content\"><pre>Ridge(alpha=0.15)</pre></div></div></div><div class=\"sk-serial\"><div class=\"sk-item\"><div class=\"sk-estimator sk-toggleable\"><input class=\"sk-toggleable__control sk-hidden--visually\" id=\"sk-estimator-id-4\" type=\"checkbox\" ><label for=\"sk-estimator-id-4\" class=\"sk-toggleable__label sk-toggleable__label-arrow\">Ridge</label><div class=\"sk-toggleable__content\"><pre>Ridge(alpha=0.15)</pre></div></div></div></div></div></div></div></div><div class=\"sk-item\"><div class=\"sk-estimator sk-toggleable\"><input class=\"sk-toggleable__control sk-hidden--visually\" id=\"sk-estimator-id-5\" type=\"checkbox\" ><label for=\"sk-estimator-id-5\" class=\"sk-toggleable__label sk-toggleable__label-arrow\">CatBoostRegressor</label><div class=\"sk-toggleable__content\"><pre>&lt;catboost.core.CatBoostRegressor object at 0x7e8adc124eb0&gt;</pre></div></div></div></div></div></div></div>"
      ],
      "text/plain": [
       "Pipeline(steps=[('rfecv', RFECV(estimator=Ridge(alpha=0.15))),\n",
       "                ('model',\n",
       "                 <catboost.core.CatBoostRegressor object at 0x7e8adc124eb0>)])"
      ]
     },
     "execution_count": 23,
     "metadata": {},
     "output_type": "execute_result"
    }
   ],
   "source": [
    "from sklearn.feature_selection import RFECV\n",
    "\n",
    "model_ln_3 = Ridge(alpha=0.15)\n",
    "pipeline_ln_3 = Pipeline([('rfecv', RFECV(Ridge(alpha=0.15))), ('model', CatBoostRegressor(verbose=False))])\n",
    "pipeline_ln_3.fit(X_train, y_train)"
   ]
  },
  {
   "cell_type": "code",
   "execution_count": 24,
   "id": "a4fc6de1",
   "metadata": {
    "execution": {
     "iopub.execute_input": "2023-08-29T18:24:53.218551Z",
     "iopub.status.busy": "2023-08-29T18:24:53.217355Z",
     "iopub.status.idle": "2023-08-29T18:24:53.235211Z",
     "shell.execute_reply": "2023-08-29T18:24:53.233973Z"
    },
    "papermill": {
     "duration": 0.038903,
     "end_time": "2023-08-29T18:24:53.238115",
     "exception": false,
     "start_time": "2023-08-29T18:24:53.199212",
     "status": "completed"
    },
    "tags": []
   },
   "outputs": [
    {
     "data": {
      "text/html": [
       "<div>\n",
       "<style scoped>\n",
       "    .dataframe tbody tr th:only-of-type {\n",
       "        vertical-align: middle;\n",
       "    }\n",
       "\n",
       "    .dataframe tbody tr th {\n",
       "        vertical-align: top;\n",
       "    }\n",
       "\n",
       "    .dataframe thead th {\n",
       "        text-align: right;\n",
       "    }\n",
       "</style>\n",
       "<table border=\"1\" class=\"dataframe\">\n",
       "  <thead>\n",
       "    <tr style=\"text-align: right;\">\n",
       "      <th></th>\n",
       "      <th>Rank</th>\n",
       "    </tr>\n",
       "  </thead>\n",
       "  <tbody>\n",
       "    <tr>\n",
       "      <th>Electrical_FuseP</th>\n",
       "      <td>True</td>\n",
       "    </tr>\n",
       "    <tr>\n",
       "      <th>LotShape_Reg</th>\n",
       "      <td>True</td>\n",
       "    </tr>\n",
       "    <tr>\n",
       "      <th>Street_Pave</th>\n",
       "      <td>True</td>\n",
       "    </tr>\n",
       "    <tr>\n",
       "      <th>HeatingQC_Po</th>\n",
       "      <td>True</td>\n",
       "    </tr>\n",
       "    <tr>\n",
       "      <th>Heating_OthW</th>\n",
       "      <td>True</td>\n",
       "    </tr>\n",
       "    <tr>\n",
       "      <th>...</th>\n",
       "      <td>...</td>\n",
       "    </tr>\n",
       "    <tr>\n",
       "      <th>Exterior2nd_CmentBd</th>\n",
       "      <td>True</td>\n",
       "    </tr>\n",
       "    <tr>\n",
       "      <th>Exterior2nd_HdBoard</th>\n",
       "      <td>True</td>\n",
       "    </tr>\n",
       "    <tr>\n",
       "      <th>Neighborhood_NAmes</th>\n",
       "      <td>True</td>\n",
       "    </tr>\n",
       "    <tr>\n",
       "      <th>Exterior2nd_Other</th>\n",
       "      <td>True</td>\n",
       "    </tr>\n",
       "    <tr>\n",
       "      <th>SaleCondition_Partial</th>\n",
       "      <td>True</td>\n",
       "    </tr>\n",
       "  </tbody>\n",
       "</table>\n",
       "<p>163 rows × 1 columns</p>\n",
       "</div>"
      ],
      "text/plain": [
       "                       Rank\n",
       "Electrical_FuseP       True\n",
       "LotShape_Reg           True\n",
       "Street_Pave            True\n",
       "HeatingQC_Po           True\n",
       "Heating_OthW           True\n",
       "...                     ...\n",
       "Exterior2nd_CmentBd    True\n",
       "Exterior2nd_HdBoard    True\n",
       "Neighborhood_NAmes     True\n",
       "Exterior2nd_Other      True\n",
       "SaleCondition_Partial  True\n",
       "\n",
       "[163 rows x 1 columns]"
      ]
     },
     "execution_count": 24,
     "metadata": {},
     "output_type": "execute_result"
    }
   ],
   "source": [
    "rfecv_features = pd.DataFrame(pipeline_ln_3['rfecv'].support_,index=X.columns,columns=['Rank']).sort_values(by='Rank',ascending=True)\n",
    "rfecv_cols = list(rfecv_features.loc[rfecv_features.Rank==True].index)\n",
    "rfecv_features.loc[rfecv_features.Rank==True]"
   ]
  },
  {
   "cell_type": "code",
   "execution_count": 25,
   "id": "f2fe7e11",
   "metadata": {
    "execution": {
     "iopub.execute_input": "2023-08-29T18:24:53.273968Z",
     "iopub.status.busy": "2023-08-29T18:24:53.273492Z",
     "iopub.status.idle": "2023-08-29T18:24:53.293408Z",
     "shell.execute_reply": "2023-08-29T18:24:53.291921Z"
    },
    "papermill": {
     "duration": 0.040711,
     "end_time": "2023-08-29T18:24:53.295947",
     "exception": false,
     "start_time": "2023-08-29T18:24:53.255236",
     "status": "completed"
    },
    "tags": []
   },
   "outputs": [
    {
     "name": "stdout",
     "output_type": "stream",
     "text": [
      "0.09713862539166858\n"
     ]
    }
   ],
   "source": [
    "pred_ln_3 = pipeline_ln_3.predict(X_test)\n",
    "print(mean_absolute_percentage_error(y_test, pred_ln_3))"
   ]
  },
  {
   "cell_type": "code",
   "execution_count": 26,
   "id": "3861110e",
   "metadata": {
    "execution": {
     "iopub.execute_input": "2023-08-29T18:24:53.335917Z",
     "iopub.status.busy": "2023-08-29T18:24:53.335493Z",
     "iopub.status.idle": "2023-08-29T18:25:07.860191Z",
     "shell.execute_reply": "2023-08-29T18:25:07.858611Z"
    },
    "papermill": {
     "duration": 14.546127,
     "end_time": "2023-08-29T18:25:07.863079",
     "exception": false,
     "start_time": "2023-08-29T18:24:53.316952",
     "status": "completed"
    },
    "tags": []
   },
   "outputs": [
    {
     "name": "stdout",
     "output_type": "stream",
     "text": [
      "Requirement already satisfied: lightgbm in /opt/conda/lib/python3.10/site-packages (3.3.2)\r\n",
      "Requirement already satisfied: wheel in /opt/conda/lib/python3.10/site-packages (from lightgbm) (0.40.0)\r\n",
      "Requirement already satisfied: numpy in /opt/conda/lib/python3.10/site-packages (from lightgbm) (1.23.5)\r\n",
      "Requirement already satisfied: scipy in /opt/conda/lib/python3.10/site-packages (from lightgbm) (1.11.1)\r\n",
      "Requirement already satisfied: scikit-learn!=0.22.0 in /opt/conda/lib/python3.10/site-packages (from lightgbm) (1.2.2)\r\n",
      "Requirement already satisfied: joblib>=1.1.1 in /opt/conda/lib/python3.10/site-packages (from scikit-learn!=0.22.0->lightgbm) (1.2.0)\r\n",
      "Requirement already satisfied: threadpoolctl>=2.0.0 in /opt/conda/lib/python3.10/site-packages (from scikit-learn!=0.22.0->lightgbm) (3.1.0)\r\n"
     ]
    }
   ],
   "source": [
    "!pip install lightgbm "
   ]
  },
  {
   "cell_type": "code",
   "execution_count": 27,
   "id": "a40d7931",
   "metadata": {
    "execution": {
     "iopub.execute_input": "2023-08-29T18:25:07.901409Z",
     "iopub.status.busy": "2023-08-29T18:25:07.900484Z",
     "iopub.status.idle": "2023-08-29T18:25:09.807575Z",
     "shell.execute_reply": "2023-08-29T18:25:09.806128Z"
    },
    "papermill": {
     "duration": 1.929037,
     "end_time": "2023-08-29T18:25:09.810100",
     "exception": false,
     "start_time": "2023-08-29T18:25:07.881063",
     "status": "completed"
    },
    "tags": []
   },
   "outputs": [
    {
     "name": "stdout",
     "output_type": "stream",
     "text": [
      "0.08114473631501122\n"
     ]
    }
   ],
   "source": [
    "from lightgbm import LGBMRegressor\n",
    "\n",
    "model_lgbm_1 = LGBMRegressor()\n",
    "model_lgbm_1.fit(X_train, y_train)\n",
    "pred_lgbm_1 = model_lgbm_1.predict(X_test)\n",
    "print(mean_absolute_percentage_error(y_test, pred_lgbm_1))"
   ]
  },
  {
   "cell_type": "code",
   "execution_count": 28,
   "id": "6fef0af4",
   "metadata": {
    "execution": {
     "iopub.execute_input": "2023-08-29T18:25:09.846710Z",
     "iopub.status.busy": "2023-08-29T18:25:09.846271Z",
     "iopub.status.idle": "2023-08-29T18:25:09.854363Z",
     "shell.execute_reply": "2023-08-29T18:25:09.853209Z"
    },
    "papermill": {
     "duration": 0.029227,
     "end_time": "2023-08-29T18:25:09.856711",
     "exception": false,
     "start_time": "2023-08-29T18:25:09.827484",
     "status": "completed"
    },
    "tags": []
   },
   "outputs": [],
   "source": [
    "X_train = df_train_encoded.drop(target, axis=1)\n",
    "y_train = df_train_encoded[target]\n",
    "X_test = df_test_encoded"
   ]
  },
  {
   "cell_type": "code",
   "execution_count": 29,
   "id": "56d89c0c",
   "metadata": {
    "execution": {
     "iopub.execute_input": "2023-08-29T18:25:09.893710Z",
     "iopub.status.busy": "2023-08-29T18:25:09.893018Z",
     "iopub.status.idle": "2023-08-29T18:25:14.660970Z",
     "shell.execute_reply": "2023-08-29T18:25:14.659735Z"
    },
    "papermill": {
     "duration": 4.78994,
     "end_time": "2023-08-29T18:25:14.664016",
     "exception": false,
     "start_time": "2023-08-29T18:25:09.874076",
     "status": "completed"
    },
    "tags": []
   },
   "outputs": [],
   "source": [
    "model_cb = CatBoostRegressor(verbose=False)\n",
    "model_cb.fit(X_train, y_train)\n",
    "pred_cb_1 = model_cb.predict(X_test)"
   ]
  },
  {
   "cell_type": "code",
   "execution_count": 30,
   "id": "fad62faa",
   "metadata": {
    "execution": {
     "iopub.execute_input": "2023-08-29T18:25:14.700616Z",
     "iopub.status.busy": "2023-08-29T18:25:14.700197Z",
     "iopub.status.idle": "2023-08-29T18:25:14.732572Z",
     "shell.execute_reply": "2023-08-29T18:25:14.731556Z"
    },
    "papermill": {
     "duration": 0.053503,
     "end_time": "2023-08-29T18:25:14.734937",
     "exception": false,
     "start_time": "2023-08-29T18:25:14.681434",
     "status": "completed"
    },
    "tags": []
   },
   "outputs": [
    {
     "data": {
      "text/html": [
       "<div>\n",
       "<style scoped>\n",
       "    .dataframe tbody tr th:only-of-type {\n",
       "        vertical-align: middle;\n",
       "    }\n",
       "\n",
       "    .dataframe tbody tr th {\n",
       "        vertical-align: top;\n",
       "    }\n",
       "\n",
       "    .dataframe thead th {\n",
       "        text-align: right;\n",
       "    }\n",
       "</style>\n",
       "<table border=\"1\" class=\"dataframe\">\n",
       "  <thead>\n",
       "    <tr style=\"text-align: right;\">\n",
       "      <th></th>\n",
       "      <th>Id</th>\n",
       "      <th>SalePrice</th>\n",
       "    </tr>\n",
       "  </thead>\n",
       "  <tbody>\n",
       "    <tr>\n",
       "      <th>0</th>\n",
       "      <td>1461</td>\n",
       "      <td>121105.209310</td>\n",
       "    </tr>\n",
       "    <tr>\n",
       "      <th>1</th>\n",
       "      <td>1462</td>\n",
       "      <td>161280.238457</td>\n",
       "    </tr>\n",
       "    <tr>\n",
       "      <th>2</th>\n",
       "      <td>1463</td>\n",
       "      <td>188238.549403</td>\n",
       "    </tr>\n",
       "    <tr>\n",
       "      <th>3</th>\n",
       "      <td>1464</td>\n",
       "      <td>193097.738927</td>\n",
       "    </tr>\n",
       "    <tr>\n",
       "      <th>4</th>\n",
       "      <td>1465</td>\n",
       "      <td>178228.638706</td>\n",
       "    </tr>\n",
       "  </tbody>\n",
       "</table>\n",
       "</div>"
      ],
      "text/plain": [
       "     Id      SalePrice\n",
       "0  1461  121105.209310\n",
       "1  1462  161280.238457\n",
       "2  1463  188238.549403\n",
       "3  1464  193097.738927\n",
       "4  1465  178228.638706"
      ]
     },
     "execution_count": 30,
     "metadata": {},
     "output_type": "execute_result"
    }
   ],
   "source": [
    "sample_submission_df = pd.read_csv('/kaggle/input/house-prices-advanced-regression-techniques/sample_submission.csv')\n",
    "sample_submission_df['SalePrice'] = pred_cb_1\n",
    "sample_submission_df.to_csv('/kaggle/working/submission.csv', index=False)\n",
    "sample_submission_df.head()"
   ]
  }
 ],
 "metadata": {
  "kernelspec": {
   "display_name": "Python 3",
   "language": "python",
   "name": "python3"
  },
  "language_info": {
   "codemirror_mode": {
    "name": "ipython",
    "version": 3
   },
   "file_extension": ".py",
   "mimetype": "text/x-python",
   "name": "python",
   "nbconvert_exporter": "python",
   "pygments_lexer": "ipython3",
   "version": "3.10.12"
  },
  "papermill": {
   "default_parameters": {},
   "duration": 80.508933,
   "end_time": "2023-08-29T18:25:16.078387",
   "environment_variables": {},
   "exception": null,
   "input_path": "__notebook__.ipynb",
   "output_path": "__notebook__.ipynb",
   "parameters": {},
   "start_time": "2023-08-29T18:23:55.569454",
   "version": "2.4.0"
  }
 },
 "nbformat": 4,
 "nbformat_minor": 5
}
